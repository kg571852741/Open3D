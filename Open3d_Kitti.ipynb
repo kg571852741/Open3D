{
  "nbformat": 4,
  "nbformat_minor": 0,
  "metadata": {
    "colab": {
      "provenance": [],
      "include_colab_link": true
    },
    "kernelspec": {
      "name": "python3",
      "display_name": "Python 3"
    },
    "language_info": {
      "name": "python"
    }
  },
  "cells": [
    {
      "cell_type": "markdown",
      "metadata": {
        "id": "view-in-github",
        "colab_type": "text"
      },
      "source": [
        "<a href=\"https://colab.research.google.com/github/kg571852741/Open3D/blob/master/Open3d_Kitti.ipynb\" target=\"_parent\"><img src=\"https://colab.research.google.com/assets/colab-badge.svg\" alt=\"Open In Colab\"/></a>"
      ]
    },
    {
      "cell_type": "code",
      "execution_count": null,
      "metadata": {
        "colab": {
          "base_uri": "https://localhost:8080/"
        },
        "id": "UxQjWIqYzZjl",
        "outputId": "ac71d5f5-3820-496c-e107-40d26c10aa3e"
      },
      "outputs": [
        {
          "output_type": "stream",
          "name": "stdout",
          "text": [
            "/content\n",
            "Cloning into 'Open3D-ML'...\n",
            "remote: Enumerating objects: 6456, done.\u001b[K\n",
            "remote: Counting objects: 100% (412/412), done.\u001b[K\n",
            "remote: Compressing objects: 100% (300/300), done.\u001b[K\n",
            "remote: Total 6456 (delta 247), reused 215 (delta 99), pack-reused 6044\u001b[K\n",
            "Receiving objects: 100% (6456/6456), 37.67 MiB | 21.81 MiB/s, done.\n",
            "Resolving deltas: 100% (4319/4319), done.\n",
            "/content/Open3D-ML\n"
          ]
        }
      ],
      "source": [
        "%cd /content/\n",
        "!git clone https://github.com/isl-org/Open3D-ML\n",
        "%cd /content/Open3D-ML"
      ]
    },
    {
      "cell_type": "code",
      "source": [
        "!pip install open3d -qqq\n",
        "!pip install -r requirements-torch-cuda.txt -qqq"
      ],
      "metadata": {
        "colab": {
          "base_uri": "https://localhost:8080/"
        },
        "id": "x0xgJQNlzdk9",
        "outputId": "3f3f6716-a48d-447a-889d-76d88c2d04dd"
      },
      "execution_count": null,
      "outputs": [
        {
          "output_type": "stream",
          "name": "stdout",
          "text": [
            "\u001b[K     |████████████████████████████████| 408.6 MB 30 kB/s \n",
            "\u001b[K     |████████████████████████████████| 596 kB 64.5 MB/s \n",
            "\u001b[K     |████████████████████████████████| 1.1 MB 47.4 MB/s \n",
            "\u001b[K     |████████████████████████████████| 8.7 MB 7.9 MB/s \n",
            "\u001b[K     |████████████████████████████████| 4.3 MB 45.2 MB/s \n",
            "\u001b[K     |████████████████████████████████| 53 kB 1.9 MB/s \n",
            "\u001b[K     |████████████████████████████████| 343 kB 39.0 MB/s \n",
            "\u001b[K     |████████████████████████████████| 428 kB 39.8 MB/s \n",
            "\u001b[K     |████████████████████████████████| 1.1 MB 38.9 MB/s \n",
            "\u001b[K     |████████████████████████████████| 79 kB 7.8 MB/s \n",
            "\u001b[K     |████████████████████████████████| 130 kB 59.5 MB/s \n",
            "\u001b[K     |████████████████████████████████| 561 kB 46.0 MB/s \n",
            "\u001b[K     |████████████████████████████████| 54 kB 2.7 MB/s \n",
            "\u001b[K     |████████████████████████████████| 132 kB 53.7 MB/s \n",
            "\u001b[31mERROR: pip's dependency resolver does not currently take into account all the packages that are installed. This behaviour is the source of the following dependency conflicts.\n",
            "tensorflow 2.8.0 requires tf-estimator-nightly==2.8.0.dev2021122109, which is not installed.\n",
            "google-colab 1.0.0 requires tornado~=5.1.0; python_version >= \"3.0\", but you have tornado 6.1 which is incompatible.\n",
            "flask 1.1.4 requires Jinja2<3.0,>=2.10.1, but you have jinja2 3.1.1 which is incompatible.\n",
            "datascience 0.10.6 requires folium==0.2.1, but you have folium 0.8.3 which is incompatible.\n",
            "albumentations 0.1.12 requires imgaug<0.2.7,>=0.2.5, but you have imgaug 0.2.9 which is incompatible.\u001b[0m\n",
            "\u001b[K     |█████████████████████▎          | 834.1 MB 1.3 MB/s eta 0:05:25tcmalloc: large alloc 1147494400 bytes == 0x55fdb617e000 @  0x7f8f2e725615 0x55fdb383317c 0x55fdb391347a 0x55fdb3835f9d 0x55fdb3927d4d 0x55fdb38a9ec8 0x55fdb38a4a2e 0x55fdb383788a 0x55fdb38a9d30 0x55fdb38a4a2e 0x55fdb383788a 0x55fdb38a6719 0x55fdb3928b76 0x55fdb38a5d95 0x55fdb3928b76 0x55fdb38a5d95 0x55fdb3928b76 0x55fdb38a5d95 0x55fdb3837ce9 0x55fdb387b579 0x55fdb3836902 0x55fdb38a9c4d 0x55fdb38a4a2e 0x55fdb383788a 0x55fdb38a6719 0x55fdb38a4a2e 0x55fdb383788a 0x55fdb38a58f6 0x55fdb38377aa 0x55fdb38a5b4f 0x55fdb38a4a2e\n",
            "\u001b[K     |███████████████████████████     | 1055.7 MB 1.3 MB/s eta 0:02:29tcmalloc: large alloc 1434370048 bytes == 0x55fdfa7d4000 @  0x7f8f2e725615 0x55fdb383317c 0x55fdb391347a 0x55fdb3835f9d 0x55fdb3927d4d 0x55fdb38a9ec8 0x55fdb38a4a2e 0x55fdb383788a 0x55fdb38a9d30 0x55fdb38a4a2e 0x55fdb383788a 0x55fdb38a6719 0x55fdb3928b76 0x55fdb38a5d95 0x55fdb3928b76 0x55fdb38a5d95 0x55fdb3928b76 0x55fdb38a5d95 0x55fdb3837ce9 0x55fdb387b579 0x55fdb3836902 0x55fdb38a9c4d 0x55fdb38a4a2e 0x55fdb383788a 0x55fdb38a6719 0x55fdb38a4a2e 0x55fdb383788a 0x55fdb38a58f6 0x55fdb38377aa 0x55fdb38a5b4f 0x55fdb38a4a2e\n",
            "\u001b[K     |████████████████████████████████| 1252.5 MB 1.2 MB/s eta 0:00:01tcmalloc: large alloc 1565589504 bytes == 0x55fe9aa32000 @  0x7f8f2e725615 0x55fdb383317c 0x55fdb391347a 0x55fdb3835f9d 0x55fdb3927d4d 0x55fdb38a9ec8 0x55fdb38a4a2e 0x55fdb383788a 0x55fdb38a5b4f 0x55fdb38a4a2e 0x55fdb383788a 0x55fdb38a5b4f 0x55fdb38a4a2e 0x55fdb383788a 0x55fdb38a5b4f 0x55fdb38a4a2e 0x55fdb383788a 0x55fdb38a5b4f 0x55fdb38a4a2e 0x55fdb383788a 0x55fdb38a5b4f 0x55fdb38377aa 0x55fdb38a5b4f 0x55fdb38a4a2e 0x55fdb383788a 0x55fdb38a6719 0x55fdb38a4a2e 0x55fdb383788a 0x55fdb38a6719 0x55fdb38a4a2e 0x55fdb3837f21\n",
            "\u001b[K     |████████████████████████████████| 1252.5 MB 1.1 kB/s \n",
            "\u001b[K     |████████████████████████████████| 17.5 MB 1.3 MB/s \n",
            "\u001b[31mERROR: pip's dependency resolver does not currently take into account all the packages that are installed. This behaviour is the source of the following dependency conflicts.\n",
            "torchtext 0.11.0 requires torch==1.10.0, but you have torch 1.8.2 which is incompatible.\n",
            "torchaudio 0.10.0+cu111 requires torch==1.10.0, but you have torch 1.8.2 which is incompatible.\u001b[0m\n",
            "\u001b[?25h"
          ]
        }
      ]
    },
    {
      "cell_type": "code",
      "source": [
        "%cd /content/\n",
        "!python -c \"import open3d.ml.torch as ml3d\""
      ],
      "metadata": {
        "colab": {
          "base_uri": "https://localhost:8080/"
        },
        "id": "oIBx1JtHzdn8",
        "outputId": "e1510605-5b46-4cd4-ecb2-c88038320ac3"
      },
      "execution_count": null,
      "outputs": [
        {
          "output_type": "stream",
          "name": "stdout",
          "text": [
            "/content\n"
          ]
        }
      ]
    },
    {
      "cell_type": "code",
      "source": [
        "!mkdir /content/data/velodyne"
      ],
      "metadata": {
        "id": "P8MiCovNzdrV"
      },
      "execution_count": null,
      "outputs": []
    },
    {
      "cell_type": "code",
      "source": [
        "%cd /content/data/velodyne\n",
        "!wget http://semantic-kitti.org/assets/data_odometry_voxels.zip"
      ],
      "metadata": {
        "colab": {
          "base_uri": "https://localhost:8080/"
        },
        "id": "D8OPsxH7zduU",
        "outputId": "240e5fb0-f192-4b3b-878b-232884d1a73f"
      },
      "execution_count": null,
      "outputs": [
        {
          "output_type": "stream",
          "name": "stdout",
          "text": [
            "/content/data/velodyne\n",
            "--2022-04-07 13:17:19--  http://semantic-kitti.org/assets/data_odometry_voxels.zip\n",
            "Resolving semantic-kitti.org (semantic-kitti.org)... 131.220.233.2\n",
            "Connecting to semantic-kitti.org (semantic-kitti.org)|131.220.233.2|:80... connected.\n",
            "HTTP request sent, awaiting response... 200 OK\n",
            "Length: 693975024 (662M) [application/zip]\n",
            "Saving to: ‘data_odometry_voxels.zip’\n",
            "\n",
            "data_odometry_voxel 100%[===================>] 661.83M  19.1MB/s    in 74s     \n",
            "\n",
            "2022-04-07 13:18:33 (8.94 MB/s) - ‘data_odometry_voxels.zip’ saved [693975024/693975024]\n",
            "\n"
          ]
        }
      ]
    },
    {
      "cell_type": "code",
      "source": [
        "%cd /content/data/velodyne\n",
        "!unzip -j data_odometry_voxels.zip"
      ],
      "metadata": {
        "id": "e0_ZFHOMzdxl"
      },
      "execution_count": null,
      "outputs": []
    },
    {
      "cell_type": "code",
      "source": [
        "from google.colab import drive\n",
        "drive.mount('/content/drive')"
      ],
      "metadata": {
        "id": "QGEhTP6Hzdzd"
      },
      "execution_count": null,
      "outputs": []
    },
    {
      "cell_type": "code",
      "source": [
        "import open3d.ml.torch as ml3d\n",
        "import open3d.ml as _ml3d\n",
        "import plotly.graph_objects as go\n",
        "import numpy as np"
      ],
      "metadata": {
        "id": "oXdnY_YZ0Ta5"
      },
      "execution_count": null,
      "outputs": []
    },
    {
      "cell_type": "code",
      "source": [
        "import os\n",
        "import open3d.ml as _ml3d\n",
        "import open3d.ml.torch as ml3d\n",
        "\n",
        "cfg_file = \"/content/Open3D-ML/ml3d/configs/randlanet_semantickitti.yml\"\n",
        "cfg = _ml3d.utils.Config.load_from_file(cfg_file)\n",
        "\n",
        "model = ml3d.models.RandLANet(**cfg.model)\n",
        "\n",
        "\n",
        "\n",
        "datapath =  '/content/data/velodyne'\n",
        "\n",
        "dataset = ml3d.datasets.KITTI(dataset_path=datapath, use_cache = True)\n",
        "\n",
        "pipeline = ml3d.pipelines.SemanticSegmentation(model=model, dataset = dataset, **cfg.pipeline)\n",
        "\n",
        "\n",
        "\n"
      ],
      "metadata": {
        "id": "b7lnw9Am0aRB"
      },
      "execution_count": null,
      "outputs": []
    },
    {
      "cell_type": "code",
      "source": [
        "\n",
        "\n",
        "# download the weights.\n",
        "ckpt_folder = \"./logs/\"\n",
        "os.makedirs(ckpt_folder, exist_ok=True)\n",
        "ckpt_path = ckpt_folder + \"randlanet_semantickitti_202201071330utc.pth\"\n",
        "randlanet_url = \"https://storage.googleapis.com/open3d-releases/model-zoo/randlanet_semantickitti_202201071330utc.pth\"\n",
        "if not os.path.exists(ckpt_path):\n",
        "    cmd = \"wget {} -O {}\".format(randlanet_url, ckpt_path)\n",
        "    os.system(cmd)\n",
        "\n",
        "# load the parameters.\n",
        "pipeline.load_ckpt(ckpt_path=ckpt_path)\n",
        "\n"
      ],
      "metadata": {
        "colab": {
          "base_uri": "https://localhost:8080/"
        },
        "id": "13RWHZ3Y29Tq",
        "outputId": "9460f8c0-9891-4236-897b-adb38743a819"
      },
      "execution_count": null,
      "outputs": [
        {
          "output_type": "stream",
          "name": "stderr",
          "text": [
            "INFO - 2022-04-07 13:23:36,926 - semantic_segmentation - Loading checkpoint ./logs/randlanet_semantickitti_202201071330utc.pth\n"
          ]
        }
      ]
    },
    {
      "cell_type": "code",
      "source": [
        "\n",
        "\n",
        "test_split = dataset.get_split(\"test\")\n",
        "data = test_split.get_data(0)\n",
        "\n",
        "# run inference on a single example.\n",
        "# returns dict with 'predict_labels' and 'predict_scores'.\n",
        "result = pipeline.run_inference(data)"
      ],
      "metadata": {
        "id": "VoqVhMY8Fp1C"
      },
      "execution_count": null,
      "outputs": []
    },
    {
      "cell_type": "code",
      "source": [],
      "metadata": {
        "id": "uEKEJ02lEiOM"
      },
      "execution_count": null,
      "outputs": []
    },
    {
      "cell_type": "code",
      "source": [
        "import numpy as np\n",
        "import open3d as o3d\n",
        "data_viz = {}\n",
        "filepath='/content/drive/MyDrive/L001.xyz'\n",
        "\n",
        "#point_cloud= np.loadtxt(filepath,skiprows=1)\n",
        "point_cloud= np.loadtxt(filepath)\n",
        "pcd = o3d.geometry.PointCloud()\n",
        "\n",
        "pcd.points = o3d.utility.Vector3dVector(point_cloud[:,:3])\n",
        "feat =  np.zeros((len(pcd.points), 3))\n",
        "label = np.zeros((len(pcd.points), 1))\n"
      ],
      "metadata": {
        "id": "9IN1Cgiy3akc"
      },
      "execution_count": null,
      "outputs": []
    },
    {
      "cell_type": "code",
      "source": [
        "data = {\n",
        "    'point': np.asarray(pcd.points) , # your point cloud, an nx3 numpy array\n",
        "    'label': label\n",
        "    \n",
        "      }\n"
      ],
      "metadata": {
        "id": "-F4YTk0j5K4X"
      },
      "execution_count": null,
      "outputs": []
    },
    {
      "cell_type": "code",
      "source": [
        "for k, v in data.items():\n",
        "  print(k, v.shape, 'split count', len(v)/100000)"
      ],
      "metadata": {
        "colab": {
          "base_uri": "https://localhost:8080/"
        },
        "id": "jKs_1jLd6g9r",
        "outputId": "13e165ec-cb7e-4b8d-8e1d-5f167b5f935c"
      },
      "execution_count": null,
      "outputs": [
        {
          "output_type": "stream",
          "name": "stdout",
          "text": [
            "point (21567172, 3) split count 215.67172\n",
            "label (21567172, 1) split count 215.67172\n"
          ]
        }
      ]
    },
    {
      "cell_type": "code",
      "source": [
        "\n",
        "# run inference on a single example.\n",
        "# returns dict with 'predict_labels' and 'predict_scores'.\n",
        "result = pipeline.run_inference(data)\n",
        "\n",
        "# evaluate performance on the test set; this will write logs to './logs'.\n",
        "#pipeline.run_test()"
      ],
      "metadata": {
        "colab": {
          "base_uri": "https://localhost:8080/"
        },
        "id": "jeNNA0QP3Ikp",
        "outputId": "6b3773b8-91da-4b61-f6b7-65ed45e238cc"
      },
      "execution_count": null,
      "outputs": [
        {
          "output_type": "stream",
          "name": "stderr",
          "text": [
            "\n",
            "test 0/1: 100%|██████████| 1610150/1610150 [4:04:16<00:00, 109.86it/s]\n",
            "\n",
            "test 0/1:   6%|▋         | 103405/1610150 [05:04<1:13:56, 339.64it/s]\u001b[A\n",
            "test 0/1:   6%|▋         | 103405/1610150 [05:21<1:13:56, 339.64it/s]\u001b[A\n",
            "test 0/1:  10%|▉         | 154717/1610150 [10:04<1:40:39, 240.98it/s]\u001b[A\n",
            "test 0/1:  10%|▉         | 154717/1610150 [10:21<1:40:39, 240.98it/s]\u001b[A\n",
            "test 0/1:  12%|█▏        | 192351/1610150 [15:11<2:06:39, 186.57it/s]\u001b[A\n",
            "test 0/1:  12%|█▏        | 192351/1610150 [15:28<2:06:39, 186.57it/s]\u001b[A\n",
            "test 0/1:  15%|█▌        | 242043/1610150 [20:16<2:08:41, 177.18it/s]\u001b[A\n",
            "test 0/1:  15%|█▌        | 242043/1610150 [20:33<2:08:41, 177.18it/s]\u001b[A\n",
            "test 0/1:  19%|█▉        | 307076/1610150 [25:27<1:55:04, 188.73it/s]\u001b[A\n",
            "test 0/1:  19%|█▉        | 307076/1610150 [25:38<1:55:04, 188.73it/s]\u001b[A\n",
            "test 0/1:  22%|██▏       | 353501/1610150 [30:35<1:59:03, 175.92it/s]\u001b[A\n",
            "test 0/1:  22%|██▏       | 353501/1610150 [30:52<1:59:03, 175.92it/s]\u001b[A\n",
            "test 0/1:  25%|██▌       | 402646/1610150 [35:38<1:57:26, 171.36it/s]\u001b[A\n",
            "test 0/1:  25%|██▌       | 402646/1610150 [35:56<1:57:26, 171.36it/s]\u001b[A\n",
            "test 0/1:  28%|██▊       | 457126/1610150 [40:42<1:50:33, 173.83it/s]\u001b[A\n",
            "test 0/1:  28%|██▊       | 457126/1610150 [40:59<1:50:33, 173.83it/s]\u001b[A\n",
            "test 0/1:  31%|███       | 502466/1610150 [45:46<1:51:04, 166.21it/s]\u001b[A\n",
            "test 0/1:  31%|███       | 502466/1610150 [46:04<1:51:04, 166.21it/s]\u001b[A\n",
            "test 0/1:  35%|███▌      | 564118/1610150 [50:50<1:38:11, 177.55it/s]\u001b[A\n",
            "test 0/1:  35%|███▌      | 564118/1610150 [51:07<1:38:11, 177.55it/s]\u001b[A\n",
            "test 0/1:  38%|███▊      | 609855/1610150 [55:54<1:38:32, 169.20it/s]\u001b[A\n",
            "test 0/1:  38%|███▊      | 609855/1610150 [56:11<1:38:32, 169.20it/s]\u001b[A\n",
            "test 0/1:  41%|████      | 654441/1610150 [1:00:56<1:37:53, 162.72it/s]\u001b[A\n",
            "test 0/1:  41%|████      | 654441/1610150 [1:01:12<1:37:53, 162.72it/s]\u001b[A\n",
            "test 0/1:  45%|████▌     | 728336/1610150 [1:06:00<1:18:32, 187.11it/s]\u001b[A\n",
            "test 0/1:  45%|████▌     | 728336/1610150 [1:06:17<1:18:32, 187.11it/s]\u001b[A\n",
            "test 0/1:  49%|████▉     | 788541/1610150 [1:11:01<1:11:44, 190.89it/s]\u001b[A\n",
            "test 0/1:  49%|████▉     | 788541/1610150 [1:11:18<1:11:44, 190.89it/s]\u001b[A\n",
            "test 0/1:  53%|█████▎    | 852320/1610150 [1:16:02<1:04:03, 197.20it/s]\u001b[A\n",
            "test 0/1:  53%|█████▎    | 852320/1610150 [1:16:19<1:04:03, 197.20it/s]\u001b[A\n",
            "test 0/1:  56%|█████▌    | 896860/1610150 [1:21:06<1:05:23, 181.82it/s]\u001b[A\n",
            "test 0/1:  56%|█████▌    | 896860/1610150 [1:21:26<1:05:23, 181.82it/s]\u001b[A\n",
            "test 0/1:  60%|█████▉    | 959057/1610150 [1:26:10<57:30, 188.70it/s]  \u001b[A\n",
            "test 0/1:  60%|█████▉    | 959057/1610150 [1:26:27<57:30, 188.70it/s]\u001b[A\n",
            "test 0/1:  62%|██████▏   | 999916/1610150 [1:31:13<58:55, 172.63it/s]\u001b[A\n",
            "test 0/1:  62%|██████▏   | 999916/1610150 [1:31:30<58:55, 172.63it/s]\u001b[A\n",
            "test 0/1:  65%|██████▍   | 1042000/1610150 [1:36:15<58:13, 162.62it/s]\u001b[A\n",
            "test 0/1:  65%|██████▍   | 1042000/1610150 [1:36:33<58:13, 162.62it/s]\u001b[A\n",
            "test 0/1:  67%|██████▋   | 1081823/1610150 [1:41:20<57:32, 153.01it/s]\u001b[A\n",
            "test 0/1:  67%|██████▋   | 1081823/1610150 [1:41:36<57:32, 153.01it/s]\u001b[A\n",
            "test 0/1:  70%|██████▉   | 1125103/1610150 [1:46:23<53:56, 149.85it/s]\u001b[A\n",
            "test 0/1:  70%|██████▉   | 1125103/1610150 [1:46:33<53:56, 149.85it/s]\u001b[A\n",
            "test 0/1:  73%|███████▎  | 1174001/1610150 [1:51:23<47:17, 153.73it/s]\u001b[A\n",
            "test 0/1:  73%|███████▎  | 1174001/1610150 [1:51:40<47:17, 153.73it/s]\u001b[A\n",
            "test 0/1:  76%|███████▌  | 1224919/1610150 [1:56:25<40:34, 158.22it/s]\u001b[A\n",
            "test 0/1:  76%|███████▌  | 1224919/1610150 [1:56:42<40:34, 158.22it/s]\u001b[A\n",
            "test 0/1:  78%|███████▊  | 1255828/1610150 [2:01:23<41:33, 142.11it/s]\u001b[A\n",
            "test 0/1:  78%|███████▊  | 1255828/1610150 [2:01:40<41:33, 142.11it/s]\u001b[A\n",
            "test 0/1:  80%|███████▉  | 1283515/1610150 [2:06:21<42:44, 127.35it/s]\u001b[A\n",
            "test 0/1:  80%|███████▉  | 1283515/1610150 [2:06:38<42:44, 127.35it/s]\u001b[A\n",
            "test 0/1:  82%|████████▏ | 1324300/1610150 [2:11:19<36:34, 130.24it/s]\u001b[A\n",
            "test 0/1:  82%|████████▏ | 1324300/1610150 [2:11:36<36:34, 130.24it/s]\u001b[A\n",
            "test 0/1:  85%|████████▍ | 1364653/1610150 [2:16:17<31:02, 131.84it/s]\u001b[A\n",
            "test 0/1:  85%|████████▍ | 1364653/1610150 [2:16:34<31:02, 131.84it/s]\u001b[A\n",
            "test 0/1:  86%|████████▌ | 1379127/1610150 [2:21:16<36:03, 106.80it/s]\u001b[A\n",
            "test 0/1:  86%|████████▌ | 1379127/1610150 [2:21:33<36:03, 106.80it/s]\u001b[A\n",
            "test 0/1:  88%|████████▊ | 1416643/1610150 [2:26:16<28:43, 112.25it/s]\u001b[A\n",
            "test 0/1:  88%|████████▊ | 1416643/1610150 [2:26:34<28:43, 112.25it/s]\u001b[A\n",
            "test 0/1:  89%|████████▉ | 1439089/1610150 [2:31:16<28:13, 101.04it/s]\u001b[A\n",
            "test 0/1:  89%|████████▉ | 1439089/1610150 [2:31:33<28:13, 101.04it/s]\u001b[A\n",
            "test 0/1:  92%|█████████▏| 1475358/1610150 [2:36:16<20:59, 107.02it/s]\u001b[A\n",
            "test 0/1:  92%|█████████▏| 1475358/1610150 [2:36:32<20:59, 107.02it/s]\u001b[A\n",
            "test 0/1:  94%|█████████▎| 1505831/1610150 [2:41:14<16:28, 105.55it/s]\u001b[A\n",
            "test 0/1:  94%|█████████▎| 1505831/1610150 [2:41:31<16:28, 105.55it/s]\u001b[A\n",
            "test 0/1:  94%|█████████▍| 1519228/1610150 [2:46:14<17:21, 87.28it/s] \u001b[A\n",
            "test 0/1:  94%|█████████▍| 1519228/1610150 [2:46:31<17:21, 87.28it/s]\u001b[A\n",
            "test 0/1:  96%|█████████▌| 1538430/1610150 [2:51:14<14:53, 80.29it/s]\u001b[A\n",
            "test 0/1:  96%|█████████▌| 1538430/1610150 [2:51:31<14:53, 80.29it/s]\u001b[A\n",
            "test 0/1:  97%|█████████▋| 1553894/1610150 [2:56:14<13:05, 71.64it/s]\u001b[A\n",
            "test 0/1:  97%|█████████▋| 1553894/1610150 [2:56:31<13:05, 71.64it/s]\u001b[A\n",
            "test 0/1:  98%|█████████▊| 1573486/1610150 [3:01:14<08:45, 69.71it/s]\u001b[A\n",
            "test 0/1:  98%|█████████▊| 1573486/1610150 [3:01:31<08:45, 69.71it/s]\u001b[A\n",
            "test 0/1:  98%|█████████▊| 1580013/1610150 [3:06:15<09:05, 55.29it/s]\u001b[A\n",
            "test 0/1:  98%|█████████▊| 1580013/1610150 [3:06:32<09:05, 55.29it/s]\u001b[A\n",
            "test 0/1:  98%|█████████▊| 1585309/1610150 [3:11:14<09:24, 44.04it/s]\u001b[A\n",
            "test 0/1:  98%|█████████▊| 1585309/1610150 [3:11:31<09:24, 44.04it/s]\u001b[A\n",
            "test 0/1:  99%|█████████▉| 1593429/1610150 [3:16:15<07:09, 38.92it/s]\u001b[A\n",
            "test 0/1:  99%|█████████▉| 1593429/1610150 [3:16:32<07:09, 38.92it/s]\u001b[A\n",
            "test 0/1:  99%|█████████▉| 1596128/1610150 [3:21:13<07:47, 29.99it/s]\u001b[A\n",
            "test 0/1:  99%|█████████▉| 1599410/1610150 [3:26:11<07:21, 24.31it/s]\u001b[A\n",
            "test 0/1:  99%|█████████▉| 1599410/1610150 [3:26:28<07:21, 24.31it/s]\u001b[A\n",
            "test 0/1:  99%|█████████▉| 1601866/1610150 [3:31:10<07:04, 19.49it/s]\u001b[A\n",
            "test 0/1: 100%|█████████▉| 1605756/1610150 [3:36:08<04:10, 17.56it/s]\u001b[A\n",
            "test 0/1: 100%|█████████▉| 1605756/1610150 [3:36:25<04:10, 17.56it/s]\u001b[A\n",
            "test 0/1: 100%|█████████▉| 1606992/1610150 [3:41:05<03:52, 13.57it/s]\u001b[A\n",
            "test 0/1: 100%|█████████▉| 1609823/1610150 [3:46:02<00:26, 12.36it/s]\u001b[A\n",
            "test 0/1: 100%|██████████| 1610150/1610150 [3:51:00<00:00,  8.98it/s]\u001b[A/usr/local/lib/python3.7/dist-packages/open3d/_ml3d/torch/modules/metrics/semseg_metric.py:54: RuntimeWarning: Mean of empty slice\n",
            "  accs.append(np.nanmean(accs))\n",
            "INFO - 2022-04-07 21:32:25,791 - semantic_segmentation - Accuracy : [nan, nan, nan, nan, nan, nan, nan, nan, nan, nan, nan, nan, nan, nan, nan, nan, nan, nan, nan, nan]\n",
            "/usr/local/lib/python3.7/dist-packages/open3d/_ml3d/torch/modules/metrics/semseg_metric.py:87: RuntimeWarning: Mean of empty slice\n",
            "  ious.append(np.nanmean(ious))\n",
            "INFO - 2022-04-07 21:32:25,794 - semantic_segmentation - IoU : [nan, nan, nan, nan, nan, nan, nan, nan, nan, nan, nan, nan, nan, nan, nan, nan, nan, nan, nan, nan]\n"
          ]
        }
      ]
    },
    {
      "cell_type": "code",
      "source": [
        "from numpy.lib.arraysetops import unique\n",
        "pred_label = (result['predict_labels']  ).astype(np.int32)\n",
        "pred_label\n",
        "#len(pred_label)\n",
        "#unique(pred_label)\n",
        "\n",
        "unique(pred_label)"
      ],
      "metadata": {
        "colab": {
          "base_uri": "https://localhost:8080/"
        },
        "id": "01GZDFlPB06D",
        "outputId": "dd61a3a6-9700-4b5c-cdbd-864e558a4482"
      },
      "execution_count": null,
      "outputs": [
        {
          "output_type": "execute_result",
          "data": {
            "text/plain": [
              "array([18], dtype=int32)"
            ]
          },
          "metadata": {},
          "execution_count": 194
        }
      ]
    }
  ]
}